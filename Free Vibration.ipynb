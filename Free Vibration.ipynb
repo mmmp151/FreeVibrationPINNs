{
 "cells": [
  {
   "cell_type": "markdown",
   "metadata": {},
   "source": [
    "# Solving free vibration using PINNs\n",
    "Considering: M = 1 kg , C = 1 N.s/m , K = 1 N/m "
   ]
  },
  {
   "cell_type": "code",
   "execution_count": 260,
   "metadata": {},
   "outputs": [],
   "source": [
    "import numpy as np\n",
    "import matplotlib.pyplot as plt\n",
    "from smt.sampling_methods import LHS\n",
    "import torch\n",
    "import torch.nn as nn\n",
    "import time as timelib"
   ]
  },
  {
   "cell_type": "code",
   "execution_count": 261,
   "metadata": {},
   "outputs": [],
   "source": [
    "device = torch.device(0)"
   ]
  },
  {
   "cell_type": "code",
   "execution_count": 262,
   "metadata": {},
   "outputs": [],
   "source": [
    "st = timelib.time()"
   ]
  },
  {
   "cell_type": "code",
   "execution_count": 263,
   "metadata": {},
   "outputs": [],
   "source": [
    "def exact_sol(t):\n",
    "    o = 0.5*torch.exp(-t/2)*(torch.sin(torch.sqrt(torch.tensor(3))*t/2)/torch.sqrt(torch.tensor(3)) + torch.cos(torch.sqrt(torch.tensor(3))*t/2))\n",
    "    return o"
   ]
  },
  {
   "cell_type": "code",
   "execution_count": 264,
   "metadata": {},
   "outputs": [
    {
     "data": {
      "image/png": "[encoded data removed]",
      "text/plain": [
       "<Figure size 640x480 with 1 Axes>"
      ]
     },
     "metadata": {},
     "output_type": "display_data"
    },
    {
     "name": "stdout",
     "output_type": "stream",
     "text": [
      "Generated 1000 samples with LHS.\n"
     ]
    }
   ],
   "source": [
    "# Define the domain intervals for each dimension\n",
    "xlimits = np.array([[0.0, 10.0],[0.0,0.0]])\n",
    "\n",
    "# Create an LHS sampling instance\n",
    "sampling = LHS(xlimits=xlimits)\n",
    "\n",
    "# Generate 10000 samples\n",
    "num_samples = 1000\n",
    "samples = sampling(num_samples)\n",
    "\n",
    "# Visualize the samples\n",
    "plt.plot(samples[:, 0],samples[:,1], \"o\")\n",
    "plt.xlabel(\"x\")\n",
    "plt.ylabel(\"y\")\n",
    "plt.show()\n",
    "\n",
    "print(f\"Generated {num_samples} samples with LHS.\")\n",
    "# t = np.linspace(0,1,100)\n",
    "\n",
    "# x = np.ones_like(t) * 0.0\n",
    "x = samples[:, 0]\n",
    "x = torch.from_numpy(x)\n",
    "x = x.float().to(device)\n",
    "x.requires_grad = True\n",
    "\n",
    "x_init = torch.tensor(0.0,dtype=torch.float32,requires_grad=True).to(device)\n",
    "y_init = torch.tensor(0.5,dtype=torch.float32,requires_grad=True).to(device)\n",
    "dy_init = torch.tensor(0.0,dtype=torch.float32,requires_grad=True).to(device)"
   ]
  },
  {
   "cell_type": "code",
   "execution_count": 265,
   "metadata": {},
   "outputs": [],
   "source": [
    "class PINN(nn.Module):\n",
    "    def __init__(self,layers) -> None:\n",
    "        super(PINN,self).__init__()\n",
    "        self\n",
    "\n",
    "        self.x = x\n",
    "        self.x_init = x_init\n",
    "        self.y_init = y_init\n",
    "        self.dy_init = dy_init\n",
    "\n",
    "        self.loss_rec = []\n",
    "\n",
    "        self.layers = layers\n",
    "        self.net = nn.Sequential()\n",
    "        for i in range(len(layers) - 2):\n",
    "            self.net.add_module(f'layer_{i}', nn.Linear(layers[i], layers[i+1]))\n",
    "            self.net.add_module(f'activation_{i}', nn.Tanh())\n",
    "            # self.net.add_module(f'dropout_{i}', nn.Dropout(p=self.dropout_prob))  # Add dropout\n",
    "            # self.net.add_module(f'batchnorm_{i}', nn.BatchNorm1d(layers[i+1])) # Add batchnorm\n",
    "        self.net.add_module('output', nn.Linear(layers[-2], layers[-1]))\n",
    "        self.net.add_module(f'activation_output', nn.Tanh())\n",
    "\n",
    "        self.adam = torch.optim.Adam(self.net.parameters(),lr=5e-3)\n",
    "        self.lbfgs = torch.optim.LBFGS(\n",
    "                                        self.net.parameters(),\n",
    "                                        lr=1,\n",
    "                                        max_iter=2000,\n",
    "                                        max_eval=2000,\n",
    "                                        tolerance_grad=0,\n",
    "                                        tolerance_change=0,\n",
    "                                        history_size=500,\n",
    "                                        line_search_fn=\"strong_wolfe\",\n",
    "                                       )\n",
    "    def forward(self,x):\n",
    "        u = self.net(x.view(-1,1))\n",
    "        return u[:, 0]\n",
    "    \n",
    "    def ODE_loss(self):\n",
    "        y = self.forward(self.x)\n",
    "        dy = torch.autograd.grad(y.sum(),self.x , create_graph=True)[0]\n",
    "        d2y = torch.autograd.grad(dy.sum(),self.x, create_graph=True)[0]\n",
    "        return torch.mean(torch.square(d2y + dy + y))\n",
    "    \n",
    "    def boundary_loss(self):\n",
    "        y = self.forward(self.x_init)\n",
    "        dy = torch.autograd.grad(y.sum(),self.x_init , create_graph=True)[0]\n",
    "       \n",
    "        return torch.mean(torch.square(y-self.y_init)) + torch.mean(torch.square(dy-self.dy_init))\n",
    "    \n",
    "    def closure(self):\n",
    "        self.adam.zero_grad()\n",
    "        self.lbfgs.zero_grad()\n",
    "\n",
    "        loss = self.boundary_loss() + self.ODE_loss()\n",
    "        self.loss_rec.append(loss.detach().cpu().item())\n",
    "\n",
    "        print(f\"\\r epoch {len(self.loss_rec)} , loss : {loss.detach().cpu().item():5e} , time : {timelib.time()-st:.2f} s\",end=\"\",)\n",
    "        if len(self.loss_rec)%100 ==0:\n",
    "            print(\"\")\n",
    "\n",
    "        loss.backward()\n",
    "\n",
    "        return loss\n",
    "    \n",
    "    def train(self,optimizer,epoch):\n",
    "        try:\n",
    "            c = 0\n",
    "            for i in optimizer:\n",
    "                for j in range(epoch[c]):\n",
    "                    if i == self.adam:\n",
    "                        ls = self.closure()\n",
    "                        i.step()\n",
    "                    else:\n",
    "                        i.step(self.closure)\n",
    "                \n",
    "                c+=1\n",
    "        except KeyboardInterrupt:\n",
    "            print(\"\")\n",
    "            print(\"intrrupted by user\")\n",
    "\n",
    "    def plot(self):\n",
    "        with torch.no_grad():\n",
    "            plt.figure(figsize=(5,2.5))\n",
    "            plt.semilogy(range(len(self.loss_rec)),self.loss_rec)\n",
    "            plt.ylim([0, max(self.loss_rec)])\n",
    "            plt.xlim([0,len(self.loss_rec)])\n",
    "            plt.ylabel('Loss')\n",
    "            plt.xlabel('Epoch')\n",
    "\n"
   ]
  },
  {
   "cell_type": "code",
   "execution_count": 266,
   "metadata": {},
   "outputs": [],
   "source": [
    "ode_solver = PINN([1,8,8,8,1]).to(device)\n",
    "optimizer = [ode_solver.adam,ode_solver.lbfgs]\n",
    "epoch = [100,200]"
   ]
  },
  {
   "cell_type": "code",
   "execution_count": 267,
   "metadata": {},
   "outputs": [
    {
     "name": "stdout",
     "output_type": "stream",
     "text": [
      " epoch 4 , loss : 7.044448e-02 , time : 0.43 s"
     ]
    },
    {
     "name": "stdout",
     "output_type": "stream",
     "text": [
      " epoch 100 , loss : 2.703432e-03 , time : 1.79 s\n",
      " epoch 200 , loss : 1.389268e-04 , time : 5.43 s\n",
      " epoch 300 , loss : 5.778480e-06 , time : 11.48 s\n",
      " epoch 400 , loss : 5.144862e-06 , time : 19.77 s\n",
      " epoch 500 , loss : 4.053850e-06 , time : 30.06 s\n",
      " epoch 600 , loss : 3.249235e-06 , time : 42.91 s\n",
      " epoch 700 , loss : 2.205986e-06 , time : 58.44 s\n",
      " epoch 800 , loss : 1.868511e-06 , time : 76.20 s\n",
      " epoch 900 , loss : 7.265792e-07 , time : 91.74 s\n",
      " epoch 1000 , loss : 8.092771e-08 , time : 108.84 s\n",
      " epoch 1100 , loss : 7.536986e-08 , time : 124.06 s\n",
      " epoch 1200 , loss : 7.453954e-08 , time : 142.71 s\n",
      " epoch 1300 , loss : 6.187049e-08 , time : 158.65 s\n",
      " epoch 1400 , loss : 6.167954e-08 , time : 169.14 s\n",
      " epoch 1500 , loss : 6.168163e-08 , time : 173.85 s\n",
      " epoch 1600 , loss : 6.167964e-08 , time : 179.01 s\n",
      " epoch 1700 , loss : 6.167954e-08 , time : 184.13 s\n",
      " epoch 1800 , loss : 6.168163e-08 , time : 189.05 s\n",
      " epoch 1900 , loss : 6.167964e-08 , time : 194.62 s\n",
      " epoch 1929 , loss : 6.167954e-08 , time : 196.06 s\n",
      "intrrupted by user\n"
     ]
    }
   ],
   "source": [
    "ode_solver.train(optimizer,epoch)"
   ]
  },
  {
   "cell_type": "code",
   "execution_count": 268,
   "metadata": {},
   "outputs": [
    {
     "name": "stderr",
     "output_type": "stream",
     "text": [
      "C:\\Users\\mobit\\AppData\\Local\\Temp\\ipykernel_37656\\4001353402.py:85: UserWarning: Attempt to set non-positive ylim on a log-scaled axis will be ignored.\n",
      "  plt.ylim([0, max(self.loss_rec)])\n"
     ]
    },
    {
     "data": {
      "image/png": "[encoded data removed]",
      "text/plain": [
       "<Figure size 500x250 with 1 Axes>"
      ]
     },
     "metadata": {},
     "output_type": "display_data"
    }
   ],
   "source": [
    "ode_solver.plot()"
   ]
  },
  {
   "cell_type": "code",
   "execution_count": 269,
   "metadata": {},
   "outputs": [
    {
     "data": {
      "text/plain": [
       "[<matplotlib.lines.Line2D at 0x29f73a5d0a0>]"
      ]
     },
     "execution_count": 269,
     "metadata": {},
     "output_type": "execute_result"
    },
    {
     "data": {
      "image/png": "[encoded data removed]",
      "text/plain": [
       "<Figure size 640x480 with 1 Axes>"
      ]
     },
     "metadata": {},
     "output_type": "display_data"
    }
   ],
   "source": [
    "l = torch.linspace(0,10,1000).to(device)\n",
    "y = ode_solver(l)\n",
    "y_ex = exact_sol(l)\n",
    "plt.plot(l.detach().cpu().numpy(),y.detach().cpu().numpy())\n",
    "plt.plot(l.detach().cpu().numpy(),y_ex.detach().cpu().numpy())"
   ]
  },
  {
   "cell_type": "code",
   "execution_count": null,
   "metadata": {},
   "outputs": [],
   "source": []
  }
 ],
 "metadata": {
  "kernelspec": {
   "display_name": "base",
   "language": "python",
   "name": "python3"
  },
  "language_info": {
   "codemirror_mode": {
    "name": "ipython",
    "version": 3
   },
   "file_extension": ".py",
   "mimetype": "text/x-python",
   "name": "python",
   "nbconvert_exporter": "python",
   "pygments_lexer": "ipython3",
   "version": "3.8.8"
  }
 },
 "nbformat": 4,
 "nbformat_minor": 2
}
